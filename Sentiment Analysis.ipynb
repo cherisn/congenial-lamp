{
 "cells": [
  {
   "cell_type": "code",
   "execution_count": 41,
   "id": "e36b2f7c-a9b4-447c-b6ed-26cdaa85a9cd",
   "metadata": {},
   "outputs": [
    {
     "name": "stdout",
     "output_type": "stream",
     "text": [
      "Requirement already satisfied: nltk in /opt/anaconda3/lib/python3.12/site-packages (3.9.1)\n",
      "Requirement already satisfied: click in /opt/anaconda3/lib/python3.12/site-packages (from nltk) (8.1.7)\n",
      "Requirement already satisfied: joblib in /opt/anaconda3/lib/python3.12/site-packages (from nltk) (1.4.2)\n",
      "Requirement already satisfied: regex>=2021.8.3 in /opt/anaconda3/lib/python3.12/site-packages (from nltk) (2024.9.11)\n",
      "Requirement already satisfied: tqdm in /opt/anaconda3/lib/python3.12/site-packages (from nltk) (4.66.5)\n",
      "Note: you may need to restart the kernel to use updated packages.\n"
     ]
    }
   ],
   "source": [
    "pip install nltk"
   ]
  },
  {
   "cell_type": "code",
   "execution_count": 42,
   "id": "71213769-69f4-415f-9e93-65baf88007ae",
   "metadata": {},
   "outputs": [
    {
     "name": "stdout",
     "output_type": "stream",
     "text": [
      "Requirement already satisfied: pandas in /opt/anaconda3/lib/python3.12/site-packages (2.2.2)\n",
      "Requirement already satisfied: numpy>=1.26.0 in /opt/anaconda3/lib/python3.12/site-packages (from pandas) (1.26.4)\n",
      "Requirement already satisfied: python-dateutil>=2.8.2 in /opt/anaconda3/lib/python3.12/site-packages (from pandas) (2.9.0.post0)\n",
      "Requirement already satisfied: pytz>=2020.1 in /opt/anaconda3/lib/python3.12/site-packages (from pandas) (2024.1)\n",
      "Requirement already satisfied: tzdata>=2022.7 in /opt/anaconda3/lib/python3.12/site-packages (from pandas) (2023.3)\n",
      "Requirement already satisfied: six>=1.5 in /opt/anaconda3/lib/python3.12/site-packages (from python-dateutil>=2.8.2->pandas) (1.16.0)\n",
      "Note: you may need to restart the kernel to use updated packages.\n"
     ]
    }
   ],
   "source": [
    "pip install pandas"
   ]
  },
  {
   "cell_type": "code",
   "execution_count": 43,
   "id": "132add61-fde1-4a20-84a3-c436c0812e95",
   "metadata": {},
   "outputs": [
    {
     "name": "stdout",
     "output_type": "stream",
     "text": [
      "Requirement already satisfied: textblob in /opt/anaconda3/lib/python3.12/site-packages (0.18.0.post0)\n",
      "Requirement already satisfied: nltk>=3.8 in /opt/anaconda3/lib/python3.12/site-packages (from textblob) (3.9.1)\n",
      "Requirement already satisfied: click in /opt/anaconda3/lib/python3.12/site-packages (from nltk>=3.8->textblob) (8.1.7)\n",
      "Requirement already satisfied: joblib in /opt/anaconda3/lib/python3.12/site-packages (from nltk>=3.8->textblob) (1.4.2)\n",
      "Requirement already satisfied: regex>=2021.8.3 in /opt/anaconda3/lib/python3.12/site-packages (from nltk>=3.8->textblob) (2024.9.11)\n",
      "Requirement already satisfied: tqdm in /opt/anaconda3/lib/python3.12/site-packages (from nltk>=3.8->textblob) (4.66.5)\n",
      "Note: you may need to restart the kernel to use updated packages.\n"
     ]
    }
   ],
   "source": [
    "pip install textblob"
   ]
  },
  {
   "cell_type": "code",
   "execution_count": 44,
   "id": "39a60292-4179-4084-8bf5-684bbb63796b",
   "metadata": {},
   "outputs": [
    {
     "name": "stdout",
     "output_type": "stream",
     "text": [
      "Requirement already satisfied: matplotlib in /opt/anaconda3/lib/python3.12/site-packages (3.9.2)\n",
      "Requirement already satisfied: contourpy>=1.0.1 in /opt/anaconda3/lib/python3.12/site-packages (from matplotlib) (1.2.0)\n",
      "Requirement already satisfied: cycler>=0.10 in /opt/anaconda3/lib/python3.12/site-packages (from matplotlib) (0.11.0)\n",
      "Requirement already satisfied: fonttools>=4.22.0 in /opt/anaconda3/lib/python3.12/site-packages (from matplotlib) (4.51.0)\n",
      "Requirement already satisfied: kiwisolver>=1.3.1 in /opt/anaconda3/lib/python3.12/site-packages (from matplotlib) (1.4.4)\n",
      "Requirement already satisfied: numpy>=1.23 in /opt/anaconda3/lib/python3.12/site-packages (from matplotlib) (1.26.4)\n",
      "Requirement already satisfied: packaging>=20.0 in /opt/anaconda3/lib/python3.12/site-packages (from matplotlib) (24.1)\n",
      "Requirement already satisfied: pillow>=8 in /opt/anaconda3/lib/python3.12/site-packages (from matplotlib) (10.4.0)\n",
      "Requirement already satisfied: pyparsing>=2.3.1 in /opt/anaconda3/lib/python3.12/site-packages (from matplotlib) (3.1.2)\n",
      "Requirement already satisfied: python-dateutil>=2.7 in /opt/anaconda3/lib/python3.12/site-packages (from matplotlib) (2.9.0.post0)\n",
      "Requirement already satisfied: six>=1.5 in /opt/anaconda3/lib/python3.12/site-packages (from python-dateutil>=2.7->matplotlib) (1.16.0)\n",
      "Note: you may need to restart the kernel to use updated packages.\n"
     ]
    }
   ],
   "source": [
    "pip install matplotlib"
   ]
  },
  {
   "cell_type": "code",
   "execution_count": 45,
   "id": "92c066d5-fffd-4927-8d3c-1e68d07d088f",
   "metadata": {},
   "outputs": [
    {
     "name": "stdout",
     "output_type": "stream",
     "text": [
      "Requirement already satisfied: tweepy in /opt/anaconda3/lib/python3.12/site-packages (4.14.0)\n",
      "Requirement already satisfied: oauthlib<4,>=3.2.0 in /opt/anaconda3/lib/python3.12/site-packages (from tweepy) (3.2.2)\n",
      "Requirement already satisfied: requests<3,>=2.27.0 in /opt/anaconda3/lib/python3.12/site-packages (from tweepy) (2.32.3)\n",
      "Requirement already satisfied: requests-oauthlib<2,>=1.2.0 in /opt/anaconda3/lib/python3.12/site-packages (from tweepy) (1.3.1)\n",
      "Requirement already satisfied: charset-normalizer<4,>=2 in /opt/anaconda3/lib/python3.12/site-packages (from requests<3,>=2.27.0->tweepy) (3.3.2)\n",
      "Requirement already satisfied: idna<4,>=2.5 in /opt/anaconda3/lib/python3.12/site-packages (from requests<3,>=2.27.0->tweepy) (3.7)\n",
      "Requirement already satisfied: urllib3<3,>=1.21.1 in /opt/anaconda3/lib/python3.12/site-packages (from requests<3,>=2.27.0->tweepy) (2.2.3)\n",
      "Requirement already satisfied: certifi>=2017.4.17 in /opt/anaconda3/lib/python3.12/site-packages (from requests<3,>=2.27.0->tweepy) (2024.8.30)\n",
      "Note: you may need to restart the kernel to use updated packages.\n"
     ]
    }
   ],
   "source": [
    "pip install tweepy"
   ]
  },
  {
   "cell_type": "code",
   "execution_count": 46,
   "id": "ed228cf0-075c-4080-90f1-0647e9ab9e6c",
   "metadata": {},
   "outputs": [
    {
     "name": "stdout",
     "output_type": "stream",
     "text": [
      "Authenticated as: cherrisneha\n"
     ]
    }
   ],
   "source": [
    "import tweepy\n",
    "import pandas as pd\n",
    "\n",
    "\n",
    "#Set up credentials\n",
    "# AAAAAAAAAAAAAAAAAAAAAEmiwgEAAAAA8m2fN5gxQDQ%2BJklGCemAmpSfhBc%3DFskpIa6Ab8dyNnSGpH0P98GY5E8NR4Niuog9mLaKPWgrnBn4jL\n",
    "consumer_key = 'ymZ0UOPgsR1cQOLeF3182UO47'\n",
    "consumer_secret = '8tJu0S979aSDdqEWp9brIfeN6KX9h6KqubB6HEcw3mTD82tnDn'\n",
    "access_token = '1850903838628184064-ixD2sMqT30h9Cu4qSAJPJmFwe0iI7I'\n",
    "access_token_secret = 'vSGaaYJcl6moQlzu2YFubrgdNQlQXLgex4BfMmC83ksEZ'\n",
    "\n",
    "auth = tweepy.OAuth1UserHandler(consumer_key, consumer_secret, access_token, access_token_secret)\n",
    "api = tweepy.API(auth)\n",
    "\n",
    "# Test the connection by getting your account's information\n",
    "try:\n",
    "    user = api.verify_credentials()  # Use this instead of api.me()\n",
    "    print(f'Authenticated as: {user.screen_name}')  # Use screen_name to print the username\n",
    "except tweepy.TweepyException as e:  # Updated error class\n",
    "    print(f'Error: {e}')"
   ]
  },
  {
   "cell_type": "code",
   "execution_count": 47,
   "id": "b2ed2d0b-af41-41ad-ba78-cc8b0e890115",
   "metadata": {},
   "outputs": [
    {
     "name": "stderr",
     "output_type": "stream",
     "text": [
      "[nltk_data] Downloading package stopwords to\n",
      "[nltk_data]     /Users/snehacherukuri/nltk_data...\n",
      "[nltk_data]   Package stopwords is already up-to-date!\n",
      "[nltk_data] Downloading package wordnet to\n",
      "[nltk_data]     /Users/snehacherukuri/nltk_data...\n",
      "[nltk_data]   Package wordnet is already up-to-date!\n"
     ]
    },
    {
     "name": "stdout",
     "output_type": "stream",
     "text": [
      "                                               Tweet  \\\n",
      "0            Check out this link: http://example.com   \n",
      "1  NLTK is a great library for natural language p...   \n",
      "2              I love programming in Python! #coding   \n",
      "3                            What a beautiful day!!!   \n",
      "\n",
      "                                    Cleaned_Tweet  \n",
      "0                                      check link  \n",
      "1  nltk great library natural language processing  \n",
      "2                  love programming python coding  \n",
      "3                                   beautiful day  \n"
     ]
    }
   ],
   "source": [
    "import re\n",
    "import nltk\n",
    "from nltk.corpus import stopwords\n",
    "from nltk.stem import WordNetLemmatizer\n",
    "import pandas as pd  # Don't forget to import pandas\n",
    "\n",
    "# Download NLTK resources\n",
    "nltk.download('stopwords')\n",
    "nltk.download('wordnet')\n",
    "\n",
    "# Define cleaning function\n",
    "def clean_text(text):\n",
    "    text = re.sub(r'http\\S+', '', text)  # Remove URLs\n",
    "    text = re.sub(r'[^A-Za-z0-9\\s]', '', text)  # Remove punctuation and special characters\n",
    "    text = text.lower()  # Convert to lowercase\n",
    "    tokens = text.split()\n",
    "    tokens = [word for word in tokens if word not in stopwords.words('english')]  # Remove stopwords\n",
    "    lemmatizer = WordNetLemmatizer()\n",
    "    tokens = [lemmatizer.lemmatize(word) for word in tokens]  # Lemmatize tokens\n",
    "    return ' '.join(tokens)\n",
    "\n",
    "# Sample DataFrame\n",
    "data = {\n",
    "    'Tweet': [\n",
    "        'Check out this link: http://example.com',\n",
    "        'NLTK is a great library for natural language processing!',\n",
    "        'I love programming in Python! #coding',\n",
    "        'What a beautiful day!!!'\n",
    "    ]\n",
    "}\n",
    "\n",
    "df = pd.DataFrame(data)  # Create a DataFrame\n",
    "\n",
    "# Apply cleaning\n",
    "df['Cleaned_Tweet'] = df['Tweet'].apply(clean_text)\n",
    "\n",
    "# Display the DataFrame with cleaned tweets\n",
    "print(df[['Tweet', 'Cleaned_Tweet']])"
   ]
  },
  {
   "cell_type": "code",
   "execution_count": 48,
   "id": "c19f5629-f67e-4eb6-b3f6-317dc40d03d5",
   "metadata": {},
   "outputs": [],
   "source": [
    "from textblob import TextBlob\n",
    "\n",
    "# Define sentiment function\n",
    "def get_sentiment(text):\n",
    "    blob = TextBlob(text)\n",
    "    polarity = blob.sentiment.polarity\n",
    "    if polarity > 0:\n",
    "        return 'positive'\n",
    "    elif polarity == 0:\n",
    "        return 'neutral'\n",
    "    else:\n",
    "        return 'negative'\n",
    "\n",
    "# Apply sentiment analysis\n",
    "df['Sentiment'] = df['Cleaned_Tweet'].apply(get_sentiment)"
   ]
  },
  {
   "cell_type": "code",
   "execution_count": 49,
   "id": "1b30a1b1-04b1-4591-99db-4bde6d7b1939",
   "metadata": {},
   "outputs": [
    {
     "name": "stderr",
     "output_type": "stream",
     "text": [
      "[nltk_data] Downloading package vader_lexicon to\n",
      "[nltk_data]     /Users/snehacherukuri/nltk_data...\n",
      "[nltk_data]   Package vader_lexicon is already up-to-date!\n"
     ]
    }
   ],
   "source": [
    "# Optional: Use VADER for improved accuracy on social media text\n",
    "from nltk.sentiment.vader import SentimentIntensityAnalyzer\n",
    "nltk.download('vader_lexicon')\n",
    "\n",
    "analyzer = SentimentIntensityAnalyzer()\n",
    "\n",
    "def vader_sentiment(text):\n",
    "    score = analyzer.polarity_scores(text)\n",
    "    if score['compound'] >= 0.05:\n",
    "        return 'positive'\n",
    "    elif score['compound'] <= -0.05:\n",
    "        return 'negative'\n",
    "    else:\n",
    "        return 'neutral'\n",
    "\n",
    "df['VADER_Sentiment'] = df['Cleaned_Tweet'].apply(vader_sentiment)"
   ]
  },
  {
   "cell_type": "code",
   "execution_count": 50,
   "id": "73331a4c-12d7-4f31-ac14-e18e88bc655e",
   "metadata": {},
   "outputs": [
    {
     "data": {
      "image/png": "[encoded data removed]",
      "text/plain": [
       "<Figure size 800x600 with 1 Axes>"
      ]
     },
     "metadata": {},
     "output_type": "display_data"
    }
   ],
   "source": [
    "import matplotlib.pyplot as plt\n",
    "\n",
    "# Count the occurrences of each sentiment\n",
    "sentiment_counts = df['Sentiment'].value_counts()\n",
    "plt.figure(figsize=(8, 6))\n",
    "sentiment_counts.plot(kind='pie', color=['green', 'gray', 'red'])\n",
    "plt.title('Sentiment Analysis of Tweets')\n",
    "plt.xlabel('Sentiment')\n",
    "plt.ylabel('Number of Tweets')\n",
    "plt.show()"
   ]
  },
  {
   "cell_type": "code",
   "execution_count": 51,
   "id": "27f0a5a1-2237-4658-b8d7-0ddb465294d3",
   "metadata": {},
   "outputs": [
    {
     "name": "stdout",
     "output_type": "stream",
     "text": [
      "4.14.0\n"
     ]
    }
   ],
   "source": [
    "import tweepy\n",
    "print(tweepy.__version__)"
   ]
  },
  {
   "cell_type": "code",
   "execution_count": 52,
   "id": "4fc70d26-6fd7-4211-a167-f356f3e8260c",
   "metadata": {},
   "outputs": [
    {
     "name": "stdout",
     "output_type": "stream",
     "text": [
      "Requirement already satisfied: tweepy in /opt/anaconda3/lib/python3.12/site-packages (4.14.0)\n",
      "Requirement already satisfied: oauthlib<4,>=3.2.0 in /opt/anaconda3/lib/python3.12/site-packages (from tweepy) (3.2.2)\n",
      "Requirement already satisfied: requests<3,>=2.27.0 in /opt/anaconda3/lib/python3.12/site-packages (from tweepy) (2.32.3)\n",
      "Requirement already satisfied: requests-oauthlib<2,>=1.2.0 in /opt/anaconda3/lib/python3.12/site-packages (from tweepy) (1.3.1)\n",
      "Requirement already satisfied: charset-normalizer<4,>=2 in /opt/anaconda3/lib/python3.12/site-packages (from requests<3,>=2.27.0->tweepy) (3.3.2)\n",
      "Requirement already satisfied: idna<4,>=2.5 in /opt/anaconda3/lib/python3.12/site-packages (from requests<3,>=2.27.0->tweepy) (3.7)\n",
      "Requirement already satisfied: urllib3<3,>=1.21.1 in /opt/anaconda3/lib/python3.12/site-packages (from requests<3,>=2.27.0->tweepy) (2.2.3)\n",
      "Requirement already satisfied: certifi>=2017.4.17 in /opt/anaconda3/lib/python3.12/site-packages (from requests<3,>=2.27.0->tweepy) (2024.8.30)\n",
      "Note: you may need to restart the kernel to use updated packages.\n"
     ]
    }
   ],
   "source": [
    "pip install --upgrade tweepy"
   ]
  },
  {
   "cell_type": "code",
   "execution_count": 61,
   "id": "200d3f6b-f61f-499b-b388-f51452893589",
   "metadata": {},
   "outputs": [
    {
     "name": "stdout",
     "output_type": "stream",
     "text": [
      "Authentication OK\n"
     ]
    },
    {
     "name": "stderr",
     "output_type": "stream",
     "text": [
      "[nltk_data] Downloading package stopwords to\n",
      "[nltk_data]     /Users/snehacherukuri/nltk_data...\n",
      "[nltk_data]   Package stopwords is already up-to-date!\n"
     ]
    },
    {
     "data": {
      "image/png": "[encoded data removed]",
      "text/plain": [
       "<Figure size 640x480 with 1 Axes>"
      ]
     },
     "metadata": {},
     "output_type": "display_data"
    }
   ],
   "source": [
    "import tweepy\n",
    "import pandas as pd\n",
    "import re\n",
    "import nltk\n",
    "from nltk.corpus import stopwords\n",
    "from textblob import TextBlob\n",
    "import matplotlib.pyplot as plt\n",
    "\n",
    "# Initialize Tweepy API (use your credentials here)\n",
    "consumer_key = 'ymZ0UOPgsR1cQOLeF3182UO47'\n",
    "consumer_secret = '8tJu0S979aSDdqEWp9brIfeN6KX9h6KqubB6HEcw3mTD82tnDn'\n",
    "access_token = '1850903838628184064-ixD2sMqT30h9Cu4qSAJPJmFwe0iI7I'\n",
    "access_token_secret = 'vSGaaYJcl6moQlzu2YFubrgdNQlQXLgex4BfMmC83ksEZ'\n",
    "\n",
    "auth = tweepy.OAuth1UserHandler(consumer_key, consumer_secret, access_token, access_token_secret)\n",
    "api = tweepy.API(auth)\n",
    "\n",
    "# Check authentication\n",
    "try:\n",
    "    api.verify_credentials()\n",
    "    print(\"Authentication OK\")\n",
    "except Exception as e:\n",
    "    print(\"Error during authentication\", e)\n",
    "'''\n",
    "\n",
    "# Collect tweets using v2 API (Ensure your app has access to v2)\n",
    "query = 'BrandName -is:retweet'\n",
    "tweets = api.search_recent_tweets(query=query, max_results=100, tweet_fields=['text'])\n",
    "\n",
    "# Process collected tweets\n",
    "data = [[tweet.text] for tweet in tweets.data]  # Access the 'data' attribute for v2\n",
    "df = pd.DataFrame(data, columns=[\"Tweet\"])\n",
    "\n",
    "'''\n",
    "# Preprocess function\n",
    "def clean_text(text):\n",
    "    text = re.sub(r'http\\S+', '', text).lower()  # Remove URLs and convert to lower case\n",
    "    text = re.sub(r'[^A-Za-z0-9\\s]', '', text)  # Remove punctuation\n",
    "    return ' '.join([word for word in text.split() if word not in stopwords.words('english')])\n",
    "\n",
    "# Download stopwords if not already downloaded\n",
    "nltk.download('stopwords')\n",
    "# Preprocess tweets\n",
    "df['Cleaned_Tweet'] = df['Tweet'].apply(clean_text)\n",
    "\n",
    "# Sentiment Analysis\n",
    "df['Sentiment'] = df['Cleaned_Tweet'].apply(lambda x: 'positive' if TextBlob(x).sentiment.polarity > 0 else 'neutral' if TextBlob(x).sentiment.polarity == 0 else 'negative')\n",
    "\n",
    "# Visualize sentiment\n",
    "df['Sentiment'].value_counts().plot(kind='bar', title='Sentiment Analysis of Tweets')\n",
    "plt.show()"
   ]
  },
  {
   "cell_type": "code",
   "execution_count": null,
   "id": "ea72e359-bcf8-4528-b2de-b2d5b37446a7",
   "metadata": {},
   "outputs": [],
   "source": [
    "pip install openpyxl xlsxwriter"
   ]
  },
  {
   "cell_type": "code",
   "execution_count": 63,
   "id": "51e517ab-0e1f-4cf4-a3a1-4d92a2269eab",
   "metadata": {},
   "outputs": [
    {
     "name": "stdout",
     "output_type": "stream",
     "text": [
      "Data saved to tweets_data.csv and tweets_data.json\n"
     ]
    }
   ],
   "source": [
    "import tweepy\n",
    "import pandas as pd\n",
    "\n",
    "# Initialize the client with Bearer Token\n",
    "bearer_token = 'AAAAAAAAAAAAAAAAAAAAAEmiwgEAAAAA5G%2BY3w5AQz41mvk%2F7q0IUbx%2B5Ro%3Drgsl0MvMUU7cFuUScbL9YkqZC5fXnk4Gp8WuQmSvLb9gwu57uH'  # Replace with your actual Bearer Token\n",
    "client = tweepy.Client(bearer_token=bearer_token)\n",
    "'''\n",
    "# Collect tweets (make sure to adjust the query and fields as needed)\n",
    "query = 'BrandName -is:retweet'\n",
    "tweets = client.search_recent_tweets(query=query, max_results=100, tweet_fields=['text'])\n",
    "\n",
    "# Process collected tweets\n",
    "data = [[tweet.text] for tweet in tweets.data]\n",
    "df = pd.DataFrame(data, columns=[\"Tweet\"])\n",
    "'''\n",
    "# Save DataFrame to CSV\n",
    "csv_file_path = 'tweets_data.csv'\n",
    "df.to_csv(csv_file_path, index=False)\n",
    "\n",
    "# Alternatively, save DataFrame to JSON\n",
    "json_file_path = 'tweets_data.json'\n",
    "df.to_json(json_file_path, orient='records', lines=True)\n",
    "\n",
    "print(f\"Data saved to {csv_file_path} and {json_file_path}\")"
   ]
  },
  {
   "cell_type": "code",
   "execution_count": null,
   "id": "3b901b4b-5052-4a07-834c-884668c02806",
   "metadata": {},
   "outputs": [],
   "source": []
  }
 ],
 "metadata": {
  "kernelspec": {
   "display_name": "Python 3 (ipykernel)",
   "language": "python",
   "name": "python3"
  },
  "language_info": {
   "codemirror_mode": {
    "name": "ipython",
    "version": 3
   },
   "file_extension": ".py",
   "mimetype": "text/x-python",
   "name": "python",
   "nbconvert_exporter": "python",
   "pygments_lexer": "ipython3",
   "version": "3.12.7"
  }
 },
 "nbformat": 4,
 "nbformat_minor": 5
}
